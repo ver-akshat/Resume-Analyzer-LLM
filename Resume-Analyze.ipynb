{
 "cells": [
  {
   "cell_type": "markdown",
   "metadata": {},
   "source": [
    "#### Analyzing resume by making a QnA pipeline using Langchain, using concept of RAG by inputting a PDF a.k.a data source and querying this using vector store also"
   ]
  },
  {
   "cell_type": "code",
   "execution_count": 2,
   "metadata": {},
   "outputs": [],
   "source": [
    "# Imports\n",
    "\n",
    "from PyPDF2 import PdfReader\n",
    "from langchain.text_splitter import RecursiveCharacterTextSplitter\n",
    "from langchain.embeddings.openai import OpenAIEmbeddings\n",
    "from langchain.vectorstores import FAISS\n",
    "from langchain.chat_models import ChatOpenAI\n",
    "from langchain.chains.question_answering import load_qa_chain\n"
   ]
  },
  {
   "cell_type": "markdown",
   "metadata": {},
   "source": [
    "##### Taking a sample resume and then analyzing that"
   ]
  },
  {
   "cell_type": "code",
   "execution_count": 4,
   "metadata": {},
   "outputs": [
    {
     "data": {
      "text/plain": [
       "<PyPDF2._reader.PdfReader at 0x1d7a580d6d0>"
      ]
     },
     "execution_count": 4,
     "metadata": {},
     "output_type": "execute_result"
    }
   ],
   "source": [
    "pdf_path=\"C:\\\\Users\\\\91868\\\\Downloads\\\\J2EE Developer.pdf\"\n",
    "pdf_reader=PdfReader(pdf_path)\n",
    "pdf_reader"
   ]
  },
  {
   "cell_type": "code",
   "execution_count": 5,
   "metadata": {},
   "outputs": [
    {
     "name": "stdout",
     "output_type": "stream",
     "text": [
      "ABOUT\n",
      "I am an experienced software developer, seeking a full-time position in the\n",
      "field of  backend development where I can apply my knowledge and skills for\n",
      "continuous improvement.\n",
      "WORK EXPERIENCE\n",
      "EDUCATION\n",
      "BACHELOR OF TECHNOLOGY (HONS.), MAJOR IN ELECTRONICS AND COMM.\n",
      "AKTU | 2016-2020\n",
      "Percentage 83.46%\n",
      "AWARDS & CERTIFICATIONS\n",
      "Best Newcomer & On the Spot Awards\n",
      "TCS | OCT 2021\n",
      "For outstanding quality of work, customer appreciation, resolving and turning\n",
      "around escalations and significant contribution towards project\n",
      "Certified SAFe 5 (Scaled Agile Framework for Enterprise) Practitioner with ID:\n",
      "17588 169-4782SOFTWARE ENGINEER \n",
      "Tata Consultancy Services (TCS) | JAN 2021 - Present\n",
      "Project: TravelPort (Travel Domain Services)\n",
      "Handling responsibilities of development, bug fixes, requirement analysis,\n",
      "effort estimation.\n",
      "Developing Microservices for Airlines like (BA, LH, SQ, AA, UA, SN, QF) for\n",
      "E2E ticket booking system\n",
      "Involved in enhancing the existing Microservices functionality and fixing\n",
      "production defects\n",
      "Developed backend Services, APIs and their REST controllers\n",
      "Developed web modules and REST web services.\n",
      "Used Http web client for microservices architecture.\n",
      "Implemented multi-threading, stream API concepts for better performance.\n",
      "Used to SonarQube, SonarLint tool for monitoring code quality and test\n",
      "coverage\n",
      "Used Fortify Scan tool for Code quality, complexity checking and\n",
      "vulnerability. \n",
      "Used SOAP UI and Postman for hitting deployed services to determine\n",
      "proper functionality of deployed Micro Services\n",
      "Deploying services in Jenkins and configuring new Microservices on\n",
      "Zookeeper. \n",
      "Knowledge of Scale Agile framework and cross-functional teams\n",
      "Technology: Java 8, Spring Boot, Hibernate, JPA\n",
      "Data Base: MSSQL Server\n",
      "Framework: Spring, Spring Boot, Hibernate, JPA\n",
      "Environment: Windows\n",
      "CONTACT\n",
      "P: +91-9795864320\n",
      "A: Gurugram, Delhi-NCR\n",
      "E: prishabh214@gmail.com\n",
      "Li: https://www.linkedin.com/in/rishabh-         \n",
      "pandey-b0a459153/Methodology: Agile, Lean\n",
      "Language: JAVA 8\n",
      "Framework: Spring-Boot, Hibernate,           \n",
      "JPA, J2EE, Spring MVC, Multi threading,\n",
      "Collections, Streams, Rest controller.\n",
      "DataBase: MSSQL Server\n",
      "Version Control: GIT, GITAction\n",
      "Servers: Tomcat\n",
      "Management Tool: Maven\n",
      "Other: REST, Microservices, Swagger,\n",
      "Intellij, STS, Jenkins, Jira , Confluence,\n",
      "Postman, SOAP UI, Openshift Cloud,\n",
      "ZookeeperPROFESSIONAL SKILLS\n",
      "Creative spirit\n",
      "Reliable and professional\n",
      "Organized\n",
      "Time management\n",
      "Team player\n",
      "Fast learner\n",
      "MotivatedPERSONAL SKILLSR I S H A B H\n",
      "P A N D E Y\n",
      "J2EE DEVELOPER\n"
     ]
    }
   ],
   "source": [
    "# Extracting text from each page\n",
    "text=\"\"\n",
    "for page in pdf_reader.pages:\n",
    "    text+=page.extract_text()\n",
    "print(text)"
   ]
  },
  {
   "cell_type": "code",
   "execution_count": 6,
   "metadata": {},
   "outputs": [
    {
     "data": {
      "text/plain": [
       "['ABOUT\\nI am an experienced software developer, seeking a full-time position in the\\nfield of  backend development where I can apply my knowledge and skills for\\ncontinuous improvement.\\nWORK EXPERIENCE\\nEDUCATION\\nBACHELOR OF TECHNOLOGY (HONS.), MAJOR IN ELECTRONICS AND COMM.\\nAKTU | 2016-2020\\nPercentage 83.46%\\nAWARDS & CERTIFICATIONS\\nBest Newcomer & On the Spot Awards\\nTCS | OCT 2021\\nFor outstanding quality of work, customer appreciation, resolving and turning',\n",
       " 'TCS | OCT 2021\\nFor outstanding quality of work, customer appreciation, resolving and turning\\naround escalations and significant contribution towards project\\nCertified SAFe 5 (Scaled Agile Framework for Enterprise) Practitioner with ID:\\n17588 169-4782SOFTWARE ENGINEER \\nTata Consultancy Services (TCS) | JAN 2021 - Present\\nProject: TravelPort (Travel Domain Services)\\nHandling responsibilities of development, bug fixes, requirement analysis,\\neffort estimation.',\n",
       " 'Handling responsibilities of development, bug fixes, requirement analysis,\\neffort estimation.\\nDeveloping Microservices for Airlines like (BA, LH, SQ, AA, UA, SN, QF) for\\nE2E ticket booking system\\nInvolved in enhancing the existing Microservices functionality and fixing\\nproduction defects\\nDeveloped backend Services, APIs and their REST controllers\\nDeveloped web modules and REST web services.\\nUsed Http web client for microservices architecture.',\n",
       " 'Developed web modules and REST web services.\\nUsed Http web client for microservices architecture.\\nImplemented multi-threading, stream API concepts for better performance.\\nUsed to SonarQube, SonarLint tool for monitoring code quality and test\\ncoverage\\nUsed Fortify Scan tool for Code quality, complexity checking and\\nvulnerability. \\nUsed SOAP UI and Postman for hitting deployed services to determine\\nproper functionality of deployed Micro Services',\n",
       " 'proper functionality of deployed Micro Services\\nDeploying services in Jenkins and configuring new Microservices on\\nZookeeper. \\nKnowledge of Scale Agile framework and cross-functional teams\\nTechnology: Java 8, Spring Boot, Hibernate, JPA\\nData Base: MSSQL Server\\nFramework: Spring, Spring Boot, Hibernate, JPA\\nEnvironment: Windows\\nCONTACT\\nP: +91-9795864320\\nA: Gurugram, Delhi-NCR\\nE: prishabh214@gmail.com\\nLi: https://www.linkedin.com/in/rishabh-         \\npandey-b0a459153/Methodology: Agile, Lean',\n",
       " 'Li: https://www.linkedin.com/in/rishabh-         \\npandey-b0a459153/Methodology: Agile, Lean\\nLanguage: JAVA 8\\nFramework: Spring-Boot, Hibernate,           \\nJPA, J2EE, Spring MVC, Multi threading,\\nCollections, Streams, Rest controller.\\nDataBase: MSSQL Server\\nVersion Control: GIT, GITAction\\nServers: Tomcat\\nManagement Tool: Maven\\nOther: REST, Microservices, Swagger,\\nIntellij, STS, Jenkins, Jira , Confluence,\\nPostman, SOAP UI, Openshift Cloud,\\nZookeeperPROFESSIONAL SKILLS\\nCreative spirit',\n",
       " 'Postman, SOAP UI, Openshift Cloud,\\nZookeeperPROFESSIONAL SKILLS\\nCreative spirit\\nReliable and professional\\nOrganized\\nTime management\\nTeam player\\nFast learner\\nMotivatedPERSONAL\\xa0SKILLSR I S H A B H\\nP A N D E Y\\nJ2EE DEVELOPER']"
      ]
     },
     "execution_count": 6,
     "metadata": {},
     "output_type": "execute_result"
    }
   ],
   "source": [
    "# Splitting long text into chunks to fit context limit\n",
    "text_split=RecursiveCharacterTextSplitter(chunk_size=500,chunk_overlap=100,length_function=len)\n",
    "chunks=text_split.split_text(text=text)\n",
    "chunks"
   ]
  },
  {
   "cell_type": "code",
   "execution_count": 7,
   "metadata": {},
   "outputs": [
    {
     "data": {
      "text/plain": [
       "7"
      ]
     },
     "execution_count": 7,
     "metadata": {},
     "output_type": "execute_result"
    }
   ],
   "source": [
    "len(chunks)"
   ]
  },
  {
   "cell_type": "code",
   "execution_count": 8,
   "metadata": {},
   "outputs": [
    {
     "data": {
      "text/plain": [
       "'proper functionality of deployed Micro Services\\nDeploying services in Jenkins and configuring new Microservices on\\nZookeeper. \\nKnowledge of Scale Agile framework and cross-functional teams\\nTechnology: Java 8, Spring Boot, Hibernate, JPA\\nData Base: MSSQL Server\\nFramework: Spring, Spring Boot, Hibernate, JPA\\nEnvironment: Windows\\nCONTACT\\nP: +91-9795864320\\nA: Gurugram, Delhi-NCR\\nE: prishabh214@gmail.com\\nLi: https://www.linkedin.com/in/rishabh-         \\npandey-b0a459153/Methodology: Agile, Lean'"
      ]
     },
     "execution_count": 8,
     "metadata": {},
     "output_type": "execute_result"
    }
   ],
   "source": [
    "chunks[4]"
   ]
  },
  {
   "cell_type": "code",
   "execution_count": 9,
   "metadata": {},
   "outputs": [],
   "source": [
    "def openai(chunks,query_):\n",
    "    # use openai embeddings\n",
    "    embeddings=OpenAIEmbeddings()\n",
    "    # FAISS to convert text data to numerical data\n",
    "    vectorstores=FAISS.from_texts(chunks,embedding=embeddings)\n",
    "    # compare query & chunks,select top k most similar chunks based on similarity scores\n",
    "    docs=vectorstores.similarity_search(query=query_,k=3)\n",
    "    # creating openai object\n",
    "    llm=ChatOpenAI(model=\"gpt-3.5-turbo\")\n",
    "    # QA pipeline using chain function\n",
    "    chain=load_qa_chain(llm=llm,chain_type='stuff')\n",
    "    # running the chain\n",
    "    response=chain.run(input_documents=docs,question=query_)\n",
    "    return response"
   ]
  },
  {
   "cell_type": "code",
   "execution_count": 10,
   "metadata": {},
   "outputs": [
    {
     "name": "stdout",
     "output_type": "stream",
     "text": [
      "Based on the provided resume details, here is a detailed summarization:\n",
      "\n",
      "1. **Education:** Completed Bachelor of Technology with a major in Electronics and Communication from AKTU in 2020 with a percentage of 83.46%.\n",
      "\n",
      "2. **Work Experience:** Currently working as a Software Engineer at Tata Consultancy Services (TCS) since January 2021. Working on the TravelPort project in the Travel Domain Services. Responsibilities include development, bug fixes, requirement analysis, and effort estimation. Developing Microservices for airlines like BA, LH, SQ, AA, UA, SN, QF for an end-to-end ticket booking system.\n",
      "\n",
      "3. **Technical Skills:** Proficient in Java 8, Spring Boot, Hibernate, JPA, J2EE, Spring MVC, multi-threading, collections, streams, and REST controllers. Experienced with MSSQL Server, Git, GitAction, Tomcat, Maven, and various tools like Postman, SOAP UI, Jenkins, Jira, Confluence, etc.\n",
      "\n",
      "4. **Certifications & Awards:** Certified SAFe 5 (Scaled Agile Framework for Enterprise) Practitioner. Received Best Newcomer & On the Spot Awards at TCS in October 2021 for outstanding quality of work and customer appreciation.\n",
      "\n",
      "5. **Professional Skills:** Demonstrates a creative spirit, reliability, professionalism, organization, time management, teamwork, fast learning abilities, and motivation.\n",
      "\n",
      "In conclusion, the candidate is a highly skilled Software Engineer with experience in backend development, particularly in Java-based technologies, microservices, and Agile methodologies. With a strong educational background, relevant work experience, certifications, and a diverse set of technical and professional skills, the candidate is well-equipped for a challenging role in backend development.\n"
     ]
    }
   ],
   "source": [
    "# Writing fucntion to provide summary of the resume\n",
    "def return_resume_summary(chunked_query):\n",
    "    query=f''' need to provide detailed summarization of below resume and finally conclude them\n",
    "               \n",
    "                \"\"\"\"\"\"\"\"\"\"\"\"\"\"\"\"\"\"\"\"\"\"\"\"\"\"\"\"\"\"\"\"\"\"\"\"\"\"\"\"\"\"\"\"\"\"\"\"\"\"\"\"\"\"\"\"\"\"\"\"\"\"\"\"\"\"\"\"\"\"\"\"\"\"\"\"\"\"\n",
    "                {chunked_query}\n",
    "\n",
    "                \"\"\"\"\"\"\"\"\"\"\"\"\"\"\"\"\"\"\"\"\"\"\"\"\"\"\"\"\"\"\"\"\"\"\"\"\"\"\"\"\"\"\"\"\"\"\"\"\"\"\"\"\"\"\"\"\"\"\"\"\"\"\"\"\"\"\"\"\"\"\"\"\"\"\"\"\"\"\n",
    "            '''\n",
    "    return query\n",
    "\n",
    "# testing this method\n",
    "summary=return_resume_summary(chunked_query=chunks)\n",
    "summary_result=openai(chunks=chunks,query_=summary)\n",
    "print(summary_result)"
   ]
  },
  {
   "cell_type": "code",
   "execution_count": 13,
   "metadata": {},
   "outputs": [
    {
     "name": "stdout",
     "output_type": "stream",
     "text": [
      "The strength of the provided resume lies in the candidate's comprehensive education background, current work experience at Tata Consultancy Services (TCS) with a focus on backend development and microservices, proficiency in Java and related technologies, as well as the certifications obtained, such as being a Certified SAFe 5 Practitioner. Additionally, the candidate's professional skills, including creativity, reliability, and teamwork, contribute positively to their profile.\n",
      "\n",
      "The resume showcases a strong foundation in both theoretical knowledge and practical experience, making the candidate a well-rounded software developer suitable for roles requiring backend development expertise. The combination of technical expertise, project experience, certifications, and professional skills makes the candidate a competitive choice for positions in the field of backend development.\n"
     ]
    }
   ],
   "source": [
    "# MEthod to return strength of the candidate\n",
    "def return_resume_strength(chunked_query):\n",
    "    query=f'''need to provide detailed analysis and explain of the strength of below resume and finally conclude them\n",
    "                \"\"\"\"\"\"\"\"\"\"\"\"\"\"\"\"\"\"\"\"\"\"\"\"\"\"\"\"\"\"\"\"\"\"\"\"\"\"\"\"\"\"\"\"\"\"\"\"\"\"\"\"\"\"\"\"\"\"\"\"\"\"\"\"\"\"\"\"\"\"\"\n",
    "                {chunked_query}\n",
    "                \"\"\"\"\"\"\"\"\"\"\"\"\"\"\"\"\"\"\"\"\"\"\"\"\"\"\"\"\"\"\"\"\"\"\"\"\"\"\"\"\"\"\"\"\"\"\"\"\"\"\"\"\"\"\"\"\"\"\"\"\"\"\"\"\"\"\"\"\"\"\"\n",
    "                '''\n",
    "    return query\n",
    "\n",
    "strength=return_resume_strength(chunked_query=summary_result)\n",
    "strength_result=openai( chunks=chunks, query_=strength)\n",
    "print(strength_result)"
   ]
  },
  {
   "cell_type": "code",
   "execution_count": 14,
   "metadata": {},
   "outputs": [
    {
     "name": "stdout",
     "output_type": "stream",
     "text": [
      "Based on the provided resume, here are some areas that can be improved for a better resume:\n",
      "\n",
      "1. **Weaknesses:**\n",
      "   - The resume lacks a clear objective or summary statement at the beginning. Adding a concise summary highlighting the candidate's primary expertise and career goals can make the resume more impactful.\n",
      "   - The work experience section could benefit from more quantifiable achievements or projects completed. Adding specific examples of successful projects, impact on the business, or efficiencies improved can enhance the credibility of the experience.\n",
      "   - While the technical skills section is comprehensive, it might be overwhelming to read as a block of text. Consider organizing it into subcategories or highlighting key technologies that are most relevant to the target position.\n",
      "   - The resume could include information about any extracurricular activities, volunteer work, or relevant hobbies that demonstrate additional skills or interests. This can add a more well-rounded profile to the candidate.\n",
      "\n",
      "2. **Improvements:**\n",
      "   - Start the resume with a professional summary that highlights the candidate's key strengths, experience, and career objectives in the backend development field.\n",
      "   - Quantify achievements in the work experience section by mentioning specific projects, successful implementations, or improvements made during the tenure at Tata Consultancy Services.\n",
      "   - Consider tailoring the technical skills section to match the job requirements of the desired backend development roles. Highlight the most relevant technologies and tools to make it easier for recruiters to identify the candidate's proficiency.\n",
      "   - Add a section for relevant projects or personal coding projects showcasing the candidate's hands-on experience and problem-solving abilities.\n",
      "   - Include any additional certifications, online courses, or workshops attended to demonstrate continuous learning and commitment to professional growth.\n",
      "\n",
      "By addressing these weaknesses and incorporating the suggested improvements, the candidate can create a more targeted, impactful resume that highlights their strengths and suitability for backend development positions.\n"
     ]
    }
   ],
   "source": [
    "# Method to return weakness of cancidate\n",
    "def return_resume_weakness(chunked_query):\n",
    "    query=f'''need to detailed analysis and explain of the weakness of below resume and how to improve make a better resume.\n",
    "\n",
    "                \"\"\"\"\"\"\"\"\"\"\"\"\"\"\"\"\"\"\"\"\"\"\"\"\"\"\"\"\"\"\"\"\"\"\"\"\"\"\"\"\"\"\"\"\"\"\"\"\"\"\"\"\"\"\"\"\"\"\"\"\"\"\"\"\"\"\"\"\"\"\"\n",
    "                {chunked_query}\n",
    "                \"\"\"\"\"\"\"\"\"\"\"\"\"\"\"\"\"\"\"\"\"\"\"\"\"\"\"\"\"\"\"\"\"\"\"\"\"\"\"\"\"\"\"\"\"\"\"\"\"\"\"\"\"\"\"\"\"\"\"\"\"\"\"\"\"\"\"\"\"\"\"\n",
    "                '''\n",
    "    return query\n",
    "\n",
    "weakness=return_resume_weakness(chunked_query=summary_result)\n",
    "result_weakness=openai(chunks=chunks, query_=weakness)\n",
    "print(result_weakness)"
   ]
  },
  {
   "cell_type": "code",
   "execution_count": 16,
   "metadata": {},
   "outputs": [
    {
     "name": "stdout",
     "output_type": "stream",
     "text": [
      "Based on the resume details provided, the candidate can apply for job roles such as:\n",
      "1. Backend Developer\n",
      "2. Software Engineer\n",
      "3. Java Developer\n",
      "4. Microservices Developer\n",
      "5. Full Stack Developer\n",
      "\n",
      "Expected pay-scale in Indian Rupees may vary based on factors like location, company size, and experience level. However, for a candidate with their qualifications and experience, a potential pay scale could range from ₹6-12 lakhs per annum for entry-level positions to ₹12-20 lakhs per annum for mid-level roles in the mentioned job profiles. For senior positions, the pay scale could go higher. It's important to note that these are general estimates and actual salaries may vary.\n"
     ]
    }
   ],
   "source": [
    "# Method to return job titles suggestions\n",
    "def return_job_title_suggestion(chunked_query):\n",
    "\n",
    "    query = f''' what are the job roles the candidate can apply to likedin based on below,along with expected pay-scale in indian rupees?\n",
    "                  \n",
    "                  \"\"\"\"\"\"\"\"\"\"\"\"\"\"\"\"\"\"\"\"\"\"\"\"\"\"\"\"\"\"\"\"\"\"\"\"\"\"\"\"\"\"\"\"\"\"\"\"\"\"\"\"\"\"\"\"\"\"\"\"\"\"\"\"\"\"\"\"\"\"\"\n",
    "                  {chunked_query}\n",
    "                  \"\"\"\"\"\"\"\"\"\"\"\"\"\"\"\"\"\"\"\"\"\"\"\"\"\"\"\"\"\"\"\"\"\"\"\"\"\"\"\"\"\"\"\"\"\"\"\"\"\"\"\"\"\"\"\"\"\"\"\"\"\"\"\"\"\"\"\"\"\"\"\n",
    "                '''\n",
    "    return query\n",
    "\n",
    "suggestion=return_job_title_suggestion(chunked_query=summary_result)\n",
    "result_suggestion=openai(chunks=chunks, query_=suggestion)\n",
    "print(result_suggestion)"
   ]
  },
  {
   "cell_type": "code",
   "execution_count": null,
   "metadata": {},
   "outputs": [],
   "source": []
  }
 ],
 "metadata": {
  "kernelspec": {
   "display_name": "Python 3",
   "language": "python",
   "name": "python3"
  },
  "language_info": {
   "codemirror_mode": {
    "name": "ipython",
    "version": 3
   },
   "file_extension": ".py",
   "mimetype": "text/x-python",
   "name": "python",
   "nbconvert_exporter": "python",
   "pygments_lexer": "ipython3",
   "version": "3.11.5"
  }
 },
 "nbformat": 4,
 "nbformat_minor": 2
}
